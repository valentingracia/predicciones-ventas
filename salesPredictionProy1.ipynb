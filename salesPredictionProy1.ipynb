{
  "nbformat": 4,
  "nbformat_minor": 0,
  "metadata": {
    "colab": {
      "name": "salesPredictionProy1.ipynb",
      "provenance": [],
      "mount_file_id": "1IEu4X8fB1_ARkgcUx3uYDdIJNEeNFOJY",
      "authorship_tag": "ABX9TyMFEWwBdYAdaTjQt8LsI5HI",
      "include_colab_link": true
    },
    "kernelspec": {
      "name": "python3",
      "display_name": "Python 3"
    },
    "language_info": {
      "name": "python"
    }
  },
  "cells": [
    {
      "cell_type": "markdown",
      "metadata": {
        "id": "view-in-github",
        "colab_type": "text"
      },
      "source": [
        "<a href=\"https://colab.research.google.com/github/valentingracia/predicciones-ventas/blob/main/salesPredictionProy1.ipynb\" target=\"_parent\"><img src=\"https://colab.research.google.com/assets/colab-badge.svg\" alt=\"Open In Colab\"/></a>"
      ]
    },
    {
      "cell_type": "markdown",
      "metadata": {
        "id": "LIoZdpQCPPda"
      },
      "source": [
        "#Alumno : Valentin Gracia"
      ]
    },
    {
      "cell_type": "code",
      "metadata": {
        "colab": {
          "base_uri": "https://localhost:8080/"
        },
        "id": "htszJxURPO0G",
        "outputId": "5ea643eb-d54a-458d-ff76-7f5bc06962f3"
      },
      "source": [
        "import pandas as pd\n",
        "sales_df=pd.read_csv(\"/content/drive/MyDrive/Coding Dojo/salesPrediction/sales_predictions.csv\")\n",
        "print(sales_df.head())\n",
        "print(sales_df.info())\n",
        "print(sales_df.describe())\n",
        "sales_df.dropna(inplace=True)\n",
        "print(sales_df.info())\n",
        "\n"
      ],
      "execution_count": 9,
      "outputs": [
        {
          "output_type": "stream",
          "text": [
            "  Item_Identifier  Item_Weight  ...        Outlet_Type  Item_Outlet_Sales\n",
            "0           FDA15         9.30  ...  Supermarket Type1          3735.1380\n",
            "1           DRC01         5.92  ...  Supermarket Type2           443.4228\n",
            "2           FDN15        17.50  ...  Supermarket Type1          2097.2700\n",
            "3           FDX07        19.20  ...      Grocery Store           732.3800\n",
            "4           NCD19         8.93  ...  Supermarket Type1           994.7052\n",
            "\n",
            "[5 rows x 12 columns]\n",
            "<class 'pandas.core.frame.DataFrame'>\n",
            "RangeIndex: 8523 entries, 0 to 8522\n",
            "Data columns (total 12 columns):\n",
            " #   Column                     Non-Null Count  Dtype  \n",
            "---  ------                     --------------  -----  \n",
            " 0   Item_Identifier            8523 non-null   object \n",
            " 1   Item_Weight                7060 non-null   float64\n",
            " 2   Item_Fat_Content           8523 non-null   object \n",
            " 3   Item_Visibility            8523 non-null   float64\n",
            " 4   Item_Type                  8523 non-null   object \n",
            " 5   Item_MRP                   8523 non-null   float64\n",
            " 6   Outlet_Identifier          8523 non-null   object \n",
            " 7   Outlet_Establishment_Year  8523 non-null   int64  \n",
            " 8   Outlet_Size                6113 non-null   object \n",
            " 9   Outlet_Location_Type       8523 non-null   object \n",
            " 10  Outlet_Type                8523 non-null   object \n",
            " 11  Item_Outlet_Sales          8523 non-null   float64\n",
            "dtypes: float64(4), int64(1), object(7)\n",
            "memory usage: 799.2+ KB\n",
            "None\n",
            "       Item_Weight  ...  Item_Outlet_Sales\n",
            "count  7060.000000  ...        8523.000000\n",
            "mean     12.857645  ...        2181.288914\n",
            "std       4.643456  ...        1706.499616\n",
            "min       4.555000  ...          33.290000\n",
            "25%       8.773750  ...         834.247400\n",
            "50%      12.600000  ...        1794.331000\n",
            "75%      16.850000  ...        3101.296400\n",
            "max      21.350000  ...       13086.964800\n",
            "\n",
            "[8 rows x 5 columns]\n",
            "<class 'pandas.core.frame.DataFrame'>\n",
            "Int64Index: 4650 entries, 0 to 8522\n",
            "Data columns (total 12 columns):\n",
            " #   Column                     Non-Null Count  Dtype  \n",
            "---  ------                     --------------  -----  \n",
            " 0   Item_Identifier            4650 non-null   object \n",
            " 1   Item_Weight                4650 non-null   float64\n",
            " 2   Item_Fat_Content           4650 non-null   object \n",
            " 3   Item_Visibility            4650 non-null   float64\n",
            " 4   Item_Type                  4650 non-null   object \n",
            " 5   Item_MRP                   4650 non-null   float64\n",
            " 6   Outlet_Identifier          4650 non-null   object \n",
            " 7   Outlet_Establishment_Year  4650 non-null   int64  \n",
            " 8   Outlet_Size                4650 non-null   object \n",
            " 9   Outlet_Location_Type       4650 non-null   object \n",
            " 10  Outlet_Type                4650 non-null   object \n",
            " 11  Item_Outlet_Sales          4650 non-null   float64\n",
            "dtypes: float64(4), int64(1), object(7)\n",
            "memory usage: 472.3+ KB\n",
            "None\n"
          ],
          "name": "stdout"
        }
      ]
    }
  ]
}